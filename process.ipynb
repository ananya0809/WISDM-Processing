{
 "cells": [
  {
   "cell_type": "markdown",
   "metadata": {},
   "source": [
    "### Download Latest Dataset"
   ]
  },
  {
   "cell_type": "code",
   "execution_count": 1,
   "metadata": {},
   "outputs": [],
   "source": [
    "dl_link = \"https://www.cis.fordham.edu/wisdm/includes/datasets/latest/WISDM_ar_latest.tar.gz\""
   ]
  },
  {
   "cell_type": "code",
   "execution_count": 4,
   "metadata": {},
   "outputs": [
    {
     "name": "stdout",
     "output_type": "stream",
     "text": [
      "--2022-08-15 15:09:29--  https://www.cis.fordham.edu/wisdm/includes/datasets/latest/WISDM_ar_latest.tar.gz\n",
      "Resolving www.cis.fordham.edu (www.cis.fordham.edu)... 150.108.68.29\n",
      "Connecting to www.cis.fordham.edu (www.cis.fordham.edu)|150.108.68.29|:443... connected.\n",
      "HTTP request sent, awaiting response... 200 OK\n",
      "Length: 11404612 (11M) [application/x-gzip]\n",
      "Saving to: ‘WISDM_ar_latest.tar.gz.1’\n",
      "\n",
      "WISDM_ar_latest.tar 100%[===================>]  10.88M  4.03MB/s    in 2.7s    \n",
      "\n",
      "2022-08-15 15:09:33 (4.03 MB/s) - ‘WISDM_ar_latest.tar.gz.1’ saved [11404612/11404612]\n",
      "\n"
     ]
    }
   ],
   "source": [
    "! wget $dl_link \n",
    "! tar -xf WISDM_ar_latest.tar.gz"
   ]
  },
  {
   "cell_type": "markdown",
   "metadata": {},
   "source": [
    "### Copy raw data as data.txt"
   ]
  },
  {
   "cell_type": "code",
   "execution_count": 5,
   "metadata": {},
   "outputs": [],
   "source": [
    "! cp WISDM*/*raw.txt data.txt"
   ]
  }
 ],
 "metadata": {
  "kernelspec": {
   "display_name": "Python 3.8.6 ('cv')",
   "language": "python",
   "name": "python3"
  },
  "language_info": {
   "codemirror_mode": {
    "name": "ipython",
    "version": 3
   },
   "file_extension": ".py",
   "mimetype": "text/x-python",
   "name": "python",
   "nbconvert_exporter": "python",
   "pygments_lexer": "ipython3",
   "version": "3.8.6"
  },
  "orig_nbformat": 4,
  "vscode": {
   "interpreter": {
    "hash": "49cc7f33b63d2a59a94cdd5905a9d69fd357a4127d48e5e12af1b13af86b584e"
   }
  }
 },
 "nbformat": 4,
 "nbformat_minor": 2
}
